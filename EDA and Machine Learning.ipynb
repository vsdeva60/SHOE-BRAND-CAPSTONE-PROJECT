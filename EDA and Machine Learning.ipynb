{
 "cells": [
  {
   "cell_type": "code",
   "execution_count": 152,
   "id": "ece5fc2c",
   "metadata": {},
   "outputs": [],
   "source": [
    "import numpy as np\n",
    "import pandas as pd\n",
    "import seaborn as sns\n",
    "from sklearn.metrics import f1_score\n",
    "from sklearn.model_selection import train_test_split\n",
    "from sklearn.tree import DecisionTreeClassifier\n",
    "from sklearn.ensemble import RandomForestClassifier\n",
    "from xgboost import XGBClassifier\n",
    "from sklearn.model_selection import GridSearchCV\n",
    "from sklearn.metrics import accuracy_score\n",
    "import warnings\n",
    "warnings.filterwarnings(\"ignore\")\n",
    "import time\n",
    "start = time.time()\n",
    "import lightgbm \n",
    "from sklearn.metrics import confusion_matrix,accuracy_score,precision_score,recall_score\n",
    "from sklearn.model_selection import RandomizedSearchCV"
   ]
  },
  {
   "cell_type": "code",
   "execution_count": 93,
   "id": "cca3279b",
   "metadata": {},
   "outputs": [],
   "source": [
    "df1 = pd.read_csv('Columbia_table_1.csv',index_col=0)\n",
    "df2 = pd.read_csv('Puma_table_1.csv',index_col=0)\n",
    "df3 = pd.read_csv('Woodland_table_1.csv',index_col=0)\n",
    "df4 = pd.read_csv('Sketchers_table_1.csv',index_col=0)"
   ]
  },
  {
   "cell_type": "code",
   "execution_count": 94,
   "id": "8eb9f783",
   "metadata": {},
   "outputs": [
    {
     "data": {
      "text/html": [
       "<div>\n",
       "<style scoped>\n",
       "    .dataframe tbody tr th:only-of-type {\n",
       "        vertical-align: middle;\n",
       "    }\n",
       "\n",
       "    .dataframe tbody tr th {\n",
       "        vertical-align: top;\n",
       "    }\n",
       "\n",
       "    .dataframe thead th {\n",
       "        text-align: right;\n",
       "    }\n",
       "</style>\n",
       "<table border=\"1\" class=\"dataframe\">\n",
       "  <thead>\n",
       "    <tr style=\"text-align: right;\">\n",
       "      <th></th>\n",
       "      <th>name</th>\n",
       "      <th>category</th>\n",
       "      <th>No. of colors</th>\n",
       "      <th>price</th>\n",
       "    </tr>\n",
       "  </thead>\n",
       "  <tbody>\n",
       "    <tr>\n",
       "      <th>0</th>\n",
       "      <td>\\r\\n                              Columbia Wom...</td>\n",
       "      <td>men</td>\n",
       "      <td>2</td>\n",
       "      <td>10,999</td>\n",
       "    </tr>\n",
       "    <tr>\n",
       "      <th>1</th>\n",
       "      <td>\\r\\n                              Columbia Wom...</td>\n",
       "      <td>men</td>\n",
       "      <td>2</td>\n",
       "      <td>10,999</td>\n",
       "    </tr>\n",
       "    <tr>\n",
       "      <th>2</th>\n",
       "      <td>\\r\\n                              Columbia Men...</td>\n",
       "      <td>men</td>\n",
       "      <td>0</td>\n",
       "      <td>14,999</td>\n",
       "    </tr>\n",
       "    <tr>\n",
       "      <th>3</th>\n",
       "      <td>\\r\\n                              Columbia Men...</td>\n",
       "      <td>men</td>\n",
       "      <td>0</td>\n",
       "      <td>14,999</td>\n",
       "    </tr>\n",
       "    <tr>\n",
       "      <th>4</th>\n",
       "      <td>\\r\\n                              Columbia Wom...</td>\n",
       "      <td>men</td>\n",
       "      <td>2</td>\n",
       "      <td>10,999</td>\n",
       "    </tr>\n",
       "  </tbody>\n",
       "</table>\n",
       "</div>"
      ],
      "text/plain": [
       "                                                name category  No. of colors  \\\n",
       "0  \\r\\n                              Columbia Wom...      men              2   \n",
       "1  \\r\\n                              Columbia Wom...      men              2   \n",
       "2  \\r\\n                              Columbia Men...      men              0   \n",
       "3  \\r\\n                              Columbia Men...      men              0   \n",
       "4  \\r\\n                              Columbia Wom...      men              2   \n",
       "\n",
       "     price  \n",
       "0   10,999  \n",
       "1   10,999  \n",
       "2   14,999  \n",
       "3   14,999  \n",
       "4   10,999  "
      ]
     },
     "execution_count": 94,
     "metadata": {},
     "output_type": "execute_result"
    }
   ],
   "source": [
    "df1.head()"
   ]
  },
  {
   "cell_type": "code",
   "execution_count": 95,
   "id": "e8fda81c",
   "metadata": {},
   "outputs": [],
   "source": [
    "df_1 = pd.concat([df1,df2,df3,df4])"
   ]
  },
  {
   "cell_type": "code",
   "execution_count": 96,
   "id": "7386f0be",
   "metadata": {},
   "outputs": [
    {
     "data": {
      "text/html": [
       "<div>\n",
       "<style scoped>\n",
       "    .dataframe tbody tr th:only-of-type {\n",
       "        vertical-align: middle;\n",
       "    }\n",
       "\n",
       "    .dataframe tbody tr th {\n",
       "        vertical-align: top;\n",
       "    }\n",
       "\n",
       "    .dataframe thead th {\n",
       "        text-align: right;\n",
       "    }\n",
       "</style>\n",
       "<table border=\"1\" class=\"dataframe\">\n",
       "  <thead>\n",
       "    <tr style=\"text-align: right;\">\n",
       "      <th></th>\n",
       "      <th>name</th>\n",
       "      <th>category</th>\n",
       "      <th>No. of colors</th>\n",
       "      <th>price</th>\n",
       "    </tr>\n",
       "  </thead>\n",
       "  <tbody>\n",
       "    <tr>\n",
       "      <th>0</th>\n",
       "      <td>\\r\\n                              Columbia Wom...</td>\n",
       "      <td>men</td>\n",
       "      <td>2</td>\n",
       "      <td>10,999</td>\n",
       "    </tr>\n",
       "    <tr>\n",
       "      <th>1</th>\n",
       "      <td>\\r\\n                              Columbia Wom...</td>\n",
       "      <td>men</td>\n",
       "      <td>2</td>\n",
       "      <td>10,999</td>\n",
       "    </tr>\n",
       "    <tr>\n",
       "      <th>2</th>\n",
       "      <td>\\r\\n                              Columbia Men...</td>\n",
       "      <td>men</td>\n",
       "      <td>0</td>\n",
       "      <td>14,999</td>\n",
       "    </tr>\n",
       "    <tr>\n",
       "      <th>3</th>\n",
       "      <td>\\r\\n                              Columbia Men...</td>\n",
       "      <td>men</td>\n",
       "      <td>0</td>\n",
       "      <td>14,999</td>\n",
       "    </tr>\n",
       "    <tr>\n",
       "      <th>4</th>\n",
       "      <td>\\r\\n                              Columbia Wom...</td>\n",
       "      <td>men</td>\n",
       "      <td>2</td>\n",
       "      <td>10,999</td>\n",
       "    </tr>\n",
       "  </tbody>\n",
       "</table>\n",
       "</div>"
      ],
      "text/plain": [
       "                                                name category  No. of colors  \\\n",
       "0  \\r\\n                              Columbia Wom...      men              2   \n",
       "1  \\r\\n                              Columbia Wom...      men              2   \n",
       "2  \\r\\n                              Columbia Men...      men              0   \n",
       "3  \\r\\n                              Columbia Men...      men              0   \n",
       "4  \\r\\n                              Columbia Wom...      men              2   \n",
       "\n",
       "     price  \n",
       "0   10,999  \n",
       "1   10,999  \n",
       "2   14,999  \n",
       "3   14,999  \n",
       "4   10,999  "
      ]
     },
     "execution_count": 96,
     "metadata": {},
     "output_type": "execute_result"
    }
   ],
   "source": [
    "df_1.head()"
   ]
  },
  {
   "cell_type": "code",
   "execution_count": 97,
   "id": "2fd089ac",
   "metadata": {},
   "outputs": [
    {
     "data": {
      "text/plain": [
       "(88, 4)"
      ]
     },
     "execution_count": 97,
     "metadata": {},
     "output_type": "execute_result"
    }
   ],
   "source": [
    "df_1.shape"
   ]
  },
  {
   "cell_type": "code",
   "execution_count": 84,
   "id": "ea8d5434",
   "metadata": {},
   "outputs": [],
   "source": [
    "df_3 = df_3.drop(\"Unnamed: 0\", axis=1)"
   ]
  },
  {
   "cell_type": "code",
   "execution_count": 98,
   "id": "d8b54de5",
   "metadata": {},
   "outputs": [],
   "source": [
    "df1 = pd.read_csv('Columbia_table_2.csv',index_col=0)\n",
    "df2 = pd.read_csv('Puma_table_2.csv',index_col=0)\n",
    "df3 = pd.read_csv('Woodland_table_2.csv',index_col=0)\n",
    "df4 = pd.read_csv('Sketchers_table_2.csv',index_col=0)"
   ]
  },
  {
   "cell_type": "code",
   "execution_count": 99,
   "id": "c3c56f18",
   "metadata": {},
   "outputs": [],
   "source": [
    "df_2 = pd.concat([df1,df2,df3,df4])"
   ]
  },
  {
   "cell_type": "code",
   "execution_count": 100,
   "id": "734b056e",
   "metadata": {},
   "outputs": [
    {
     "data": {
      "text/plain": [
       "(88, 3)"
      ]
     },
     "execution_count": 100,
     "metadata": {},
     "output_type": "execute_result"
    }
   ],
   "source": [
    "df_2.shape"
   ]
  },
  {
   "cell_type": "code",
   "execution_count": 101,
   "id": "9139f26d",
   "metadata": {},
   "outputs": [
    {
     "data": {
      "text/html": [
       "<div>\n",
       "<style scoped>\n",
       "    .dataframe tbody tr th:only-of-type {\n",
       "        vertical-align: middle;\n",
       "    }\n",
       "\n",
       "    .dataframe tbody tr th {\n",
       "        vertical-align: top;\n",
       "    }\n",
       "\n",
       "    .dataframe thead th {\n",
       "        text-align: right;\n",
       "    }\n",
       "</style>\n",
       "<table border=\"1\" class=\"dataframe\">\n",
       "  <thead>\n",
       "    <tr style=\"text-align: right;\">\n",
       "      <th></th>\n",
       "      <th>count_of_size</th>\n",
       "      <th>colors</th>\n",
       "      <th>stylecode</th>\n",
       "    </tr>\n",
       "  </thead>\n",
       "  <tbody>\n",
       "    <tr>\n",
       "      <th>0</th>\n",
       "      <td>10</td>\n",
       "      <td>Black, Graphite|Sea Salt, Light Cloud</td>\n",
       "      <td>SKU : BL9797-010</td>\n",
       "    </tr>\n",
       "    <tr>\n",
       "      <th>1</th>\n",
       "      <td>10</td>\n",
       "      <td>Black, Graphite|Sea Salt, Light Cloud</td>\n",
       "      <td>SKU : BL9797-010</td>\n",
       "    </tr>\n",
       "    <tr>\n",
       "      <th>2</th>\n",
       "      <td>12</td>\n",
       "      <td>NaN</td>\n",
       "      <td>SKU : BM9083-373</td>\n",
       "    </tr>\n",
       "    <tr>\n",
       "      <th>3</th>\n",
       "      <td>12</td>\n",
       "      <td>NaN</td>\n",
       "      <td>SKU : BM9083-373</td>\n",
       "    </tr>\n",
       "    <tr>\n",
       "      <th>4</th>\n",
       "      <td>10</td>\n",
       "      <td>Black, Graphite|Sea Salt, Light Cloud</td>\n",
       "      <td>SKU : BL9797-125</td>\n",
       "    </tr>\n",
       "  </tbody>\n",
       "</table>\n",
       "</div>"
      ],
      "text/plain": [
       "   count_of_size                                 colors         stylecode\n",
       "0             10  Black, Graphite|Sea Salt, Light Cloud  SKU : BL9797-010\n",
       "1             10  Black, Graphite|Sea Salt, Light Cloud  SKU : BL9797-010\n",
       "2             12                                    NaN  SKU : BM9083-373\n",
       "3             12                                    NaN  SKU : BM9083-373\n",
       "4             10  Black, Graphite|Sea Salt, Light Cloud  SKU : BL9797-125"
      ]
     },
     "execution_count": 101,
     "metadata": {},
     "output_type": "execute_result"
    }
   ],
   "source": [
    "df_2.head()"
   ]
  },
  {
   "cell_type": "code",
   "execution_count": 102,
   "id": "1c455981",
   "metadata": {},
   "outputs": [],
   "source": [
    "df1 = pd.read_csv('Columbia_table_3.csv',index_col=0)\n",
    "df2 = pd.read_csv('Puma_table_3.csv',index_col=0)\n",
    "df3 = pd.read_csv('Woodland_table_3.csv',index_col=0)\n",
    "df4 = pd.read_csv('Sketchers_table_3.csv',index_col=0)"
   ]
  },
  {
   "cell_type": "code",
   "execution_count": 103,
   "id": "a1732505",
   "metadata": {},
   "outputs": [],
   "source": [
    "df_3 = pd.concat([df1,df2,df3,df4])"
   ]
  },
  {
   "cell_type": "code",
   "execution_count": 104,
   "id": "87e7758f",
   "metadata": {},
   "outputs": [
    {
     "data": {
      "text/html": [
       "<div>\n",
       "<style scoped>\n",
       "    .dataframe tbody tr th:only-of-type {\n",
       "        vertical-align: middle;\n",
       "    }\n",
       "\n",
       "    .dataframe tbody tr th {\n",
       "        vertical-align: top;\n",
       "    }\n",
       "\n",
       "    .dataframe thead th {\n",
       "        text-align: right;\n",
       "    }\n",
       "</style>\n",
       "<table border=\"1\" class=\"dataframe\">\n",
       "  <thead>\n",
       "    <tr style=\"text-align: right;\">\n",
       "      <th></th>\n",
       "      <th>reviews</th>\n",
       "      <th>size</th>\n",
       "      <th>comfort</th>\n",
       "      <th>performance</th>\n",
       "      <th>star_rating</th>\n",
       "    </tr>\n",
       "  </thead>\n",
       "  <tbody>\n",
       "    <tr>\n",
       "      <th>0</th>\n",
       "      <td>NaN</td>\n",
       "      <td>UK-4|\\n\\n\\r\\n                                 ...</td>\n",
       "      <td>\\n\\r\\n                           CLASSIC, WATE...</td>\n",
       "      <td>\\n\\nFeatures \\nOmni-Grip non-marking traction ...</td>\n",
       "      <td>0 reviews</td>\n",
       "    </tr>\n",
       "    <tr>\n",
       "      <th>1</th>\n",
       "      <td>NaN</td>\n",
       "      <td>UK-4|\\n\\n\\r\\n                                 ...</td>\n",
       "      <td>\\n\\r\\n                           CLASSIC, WATE...</td>\n",
       "      <td>\\n\\nFeatures \\nOmni-Grip non-marking traction ...</td>\n",
       "      <td>0 reviews</td>\n",
       "    </tr>\n",
       "    <tr>\n",
       "      <th>2</th>\n",
       "      <td>NaN</td>\n",
       "      <td>UK-6|\\n\\n\\r\\n                                 ...</td>\n",
       "      <td>\\n\\r\\n                           TRAIL TO STRE...</td>\n",
       "      <td>\\n\\nFeatures \\nAdapt Trax outsole provides exc...</td>\n",
       "      <td>0 reviews</td>\n",
       "    </tr>\n",
       "    <tr>\n",
       "      <th>3</th>\n",
       "      <td>NaN</td>\n",
       "      <td>UK-6|\\n\\n\\r\\n                                 ...</td>\n",
       "      <td>\\n\\r\\n                           TRAIL TO STRE...</td>\n",
       "      <td>\\n\\nFeatures \\nAdapt Trax outsole provides exc...</td>\n",
       "      <td>0 reviews</td>\n",
       "    </tr>\n",
       "    <tr>\n",
       "      <th>4</th>\n",
       "      <td>NaN</td>\n",
       "      <td>UK-4|\\n\\n\\r\\n                                 ...</td>\n",
       "      <td>\\n\\r\\n                           CLASSIC, WATE...</td>\n",
       "      <td>\\n\\nFeatures \\nOmni-Grip non-marking traction ...</td>\n",
       "      <td>0 reviews</td>\n",
       "    </tr>\n",
       "  </tbody>\n",
       "</table>\n",
       "</div>"
      ],
      "text/plain": [
       "   reviews                                               size  \\\n",
       "0      NaN  UK-4|\\n\\n\\r\\n                                 ...   \n",
       "1      NaN  UK-4|\\n\\n\\r\\n                                 ...   \n",
       "2      NaN  UK-6|\\n\\n\\r\\n                                 ...   \n",
       "3      NaN  UK-6|\\n\\n\\r\\n                                 ...   \n",
       "4      NaN  UK-4|\\n\\n\\r\\n                                 ...   \n",
       "\n",
       "                                             comfort  \\\n",
       "0  \\n\\r\\n                           CLASSIC, WATE...   \n",
       "1  \\n\\r\\n                           CLASSIC, WATE...   \n",
       "2  \\n\\r\\n                           TRAIL TO STRE...   \n",
       "3  \\n\\r\\n                           TRAIL TO STRE...   \n",
       "4  \\n\\r\\n                           CLASSIC, WATE...   \n",
       "\n",
       "                                         performance star_rating  \n",
       "0  \\n\\nFeatures \\nOmni-Grip non-marking traction ...   0 reviews  \n",
       "1  \\n\\nFeatures \\nOmni-Grip non-marking traction ...   0 reviews  \n",
       "2  \\n\\nFeatures \\nAdapt Trax outsole provides exc...   0 reviews  \n",
       "3  \\n\\nFeatures \\nAdapt Trax outsole provides exc...   0 reviews  \n",
       "4  \\n\\nFeatures \\nOmni-Grip non-marking traction ...   0 reviews  "
      ]
     },
     "execution_count": 104,
     "metadata": {},
     "output_type": "execute_result"
    }
   ],
   "source": [
    "df_3.head()"
   ]
  },
  {
   "cell_type": "code",
   "execution_count": 105,
   "id": "e6d310ba",
   "metadata": {},
   "outputs": [
    {
     "data": {
      "text/plain": [
       "((88, 4), (88, 3), (88, 5))"
      ]
     },
     "execution_count": 105,
     "metadata": {},
     "output_type": "execute_result"
    }
   ],
   "source": [
    "df_1.shape,df_2.shape,df_3.shape,"
   ]
  },
  {
   "cell_type": "code",
   "execution_count": 106,
   "id": "c4ad2b74",
   "metadata": {},
   "outputs": [
    {
     "data": {
      "text/plain": [
       "(Index(['name', 'category', 'No. of colors', 'price'], dtype='object'),\n",
       " Index(['count_of_size', 'colors', 'stylecode'], dtype='object'),\n",
       " Index(['reviews', 'size', 'comfort', 'performance', 'star_rating'], dtype='object'))"
      ]
     },
     "execution_count": 106,
     "metadata": {},
     "output_type": "execute_result"
    }
   ],
   "source": [
    "df_1.columns,df_2.columns,df_3.columns"
   ]
  },
  {
   "cell_type": "code",
   "execution_count": 246,
   "id": "70506b6d",
   "metadata": {},
   "outputs": [],
   "source": [
    "df = pd.concat([df_1,df_2,df_3], axis=1)"
   ]
  },
  {
   "cell_type": "code",
   "execution_count": 247,
   "id": "6767e530",
   "metadata": {},
   "outputs": [
    {
     "data": {
      "text/plain": [
       "(88, 12)"
      ]
     },
     "execution_count": 247,
     "metadata": {},
     "output_type": "execute_result"
    }
   ],
   "source": [
    "df.shape"
   ]
  },
  {
   "cell_type": "code",
   "execution_count": 248,
   "id": "11e924cc",
   "metadata": {},
   "outputs": [
    {
     "data": {
      "text/html": [
       "<div>\n",
       "<style scoped>\n",
       "    .dataframe tbody tr th:only-of-type {\n",
       "        vertical-align: middle;\n",
       "    }\n",
       "\n",
       "    .dataframe tbody tr th {\n",
       "        vertical-align: top;\n",
       "    }\n",
       "\n",
       "    .dataframe thead th {\n",
       "        text-align: right;\n",
       "    }\n",
       "</style>\n",
       "<table border=\"1\" class=\"dataframe\">\n",
       "  <thead>\n",
       "    <tr style=\"text-align: right;\">\n",
       "      <th></th>\n",
       "      <th>name</th>\n",
       "      <th>category</th>\n",
       "      <th>No. of colors</th>\n",
       "      <th>price</th>\n",
       "      <th>count_of_size</th>\n",
       "      <th>colors</th>\n",
       "      <th>stylecode</th>\n",
       "      <th>reviews</th>\n",
       "      <th>size</th>\n",
       "      <th>comfort</th>\n",
       "      <th>performance</th>\n",
       "      <th>star_rating</th>\n",
       "    </tr>\n",
       "  </thead>\n",
       "  <tbody>\n",
       "    <tr>\n",
       "      <th>0</th>\n",
       "      <td>\\r\\n                              Columbia Wom...</td>\n",
       "      <td>men</td>\n",
       "      <td>2</td>\n",
       "      <td>10,999</td>\n",
       "      <td>10</td>\n",
       "      <td>Black, Graphite|Sea Salt, Light Cloud</td>\n",
       "      <td>SKU : BL9797-010</td>\n",
       "      <td>NaN</td>\n",
       "      <td>UK-4|\\n\\n\\r\\n                                 ...</td>\n",
       "      <td>\\n\\r\\n                           CLASSIC, WATE...</td>\n",
       "      <td>\\n\\nFeatures \\nOmni-Grip non-marking traction ...</td>\n",
       "      <td>0 reviews</td>\n",
       "    </tr>\n",
       "    <tr>\n",
       "      <th>1</th>\n",
       "      <td>\\r\\n                              Columbia Wom...</td>\n",
       "      <td>men</td>\n",
       "      <td>2</td>\n",
       "      <td>10,999</td>\n",
       "      <td>10</td>\n",
       "      <td>Black, Graphite|Sea Salt, Light Cloud</td>\n",
       "      <td>SKU : BL9797-010</td>\n",
       "      <td>NaN</td>\n",
       "      <td>UK-4|\\n\\n\\r\\n                                 ...</td>\n",
       "      <td>\\n\\r\\n                           CLASSIC, WATE...</td>\n",
       "      <td>\\n\\nFeatures \\nOmni-Grip non-marking traction ...</td>\n",
       "      <td>0 reviews</td>\n",
       "    </tr>\n",
       "    <tr>\n",
       "      <th>2</th>\n",
       "      <td>\\r\\n                              Columbia Men...</td>\n",
       "      <td>men</td>\n",
       "      <td>0</td>\n",
       "      <td>14,999</td>\n",
       "      <td>12</td>\n",
       "      <td>NaN</td>\n",
       "      <td>SKU : BM9083-373</td>\n",
       "      <td>NaN</td>\n",
       "      <td>UK-6|\\n\\n\\r\\n                                 ...</td>\n",
       "      <td>\\n\\r\\n                           TRAIL TO STRE...</td>\n",
       "      <td>\\n\\nFeatures \\nAdapt Trax outsole provides exc...</td>\n",
       "      <td>0 reviews</td>\n",
       "    </tr>\n",
       "    <tr>\n",
       "      <th>3</th>\n",
       "      <td>\\r\\n                              Columbia Men...</td>\n",
       "      <td>men</td>\n",
       "      <td>0</td>\n",
       "      <td>14,999</td>\n",
       "      <td>12</td>\n",
       "      <td>NaN</td>\n",
       "      <td>SKU : BM9083-373</td>\n",
       "      <td>NaN</td>\n",
       "      <td>UK-6|\\n\\n\\r\\n                                 ...</td>\n",
       "      <td>\\n\\r\\n                           TRAIL TO STRE...</td>\n",
       "      <td>\\n\\nFeatures \\nAdapt Trax outsole provides exc...</td>\n",
       "      <td>0 reviews</td>\n",
       "    </tr>\n",
       "    <tr>\n",
       "      <th>4</th>\n",
       "      <td>\\r\\n                              Columbia Wom...</td>\n",
       "      <td>men</td>\n",
       "      <td>2</td>\n",
       "      <td>10,999</td>\n",
       "      <td>10</td>\n",
       "      <td>Black, Graphite|Sea Salt, Light Cloud</td>\n",
       "      <td>SKU : BL9797-125</td>\n",
       "      <td>NaN</td>\n",
       "      <td>UK-4|\\n\\n\\r\\n                                 ...</td>\n",
       "      <td>\\n\\r\\n                           CLASSIC, WATE...</td>\n",
       "      <td>\\n\\nFeatures \\nOmni-Grip non-marking traction ...</td>\n",
       "      <td>0 reviews</td>\n",
       "    </tr>\n",
       "  </tbody>\n",
       "</table>\n",
       "</div>"
      ],
      "text/plain": [
       "                                                name category  No. of colors  \\\n",
       "0  \\r\\n                              Columbia Wom...      men              2   \n",
       "1  \\r\\n                              Columbia Wom...      men              2   \n",
       "2  \\r\\n                              Columbia Men...      men              0   \n",
       "3  \\r\\n                              Columbia Men...      men              0   \n",
       "4  \\r\\n                              Columbia Wom...      men              2   \n",
       "\n",
       "     price  count_of_size                                 colors  \\\n",
       "0   10,999             10  Black, Graphite|Sea Salt, Light Cloud   \n",
       "1   10,999             10  Black, Graphite|Sea Salt, Light Cloud   \n",
       "2   14,999             12                                    NaN   \n",
       "3   14,999             12                                    NaN   \n",
       "4   10,999             10  Black, Graphite|Sea Salt, Light Cloud   \n",
       "\n",
       "          stylecode  reviews  \\\n",
       "0  SKU : BL9797-010      NaN   \n",
       "1  SKU : BL9797-010      NaN   \n",
       "2  SKU : BM9083-373      NaN   \n",
       "3  SKU : BM9083-373      NaN   \n",
       "4  SKU : BL9797-125      NaN   \n",
       "\n",
       "                                                size  \\\n",
       "0  UK-4|\\n\\n\\r\\n                                 ...   \n",
       "1  UK-4|\\n\\n\\r\\n                                 ...   \n",
       "2  UK-6|\\n\\n\\r\\n                                 ...   \n",
       "3  UK-6|\\n\\n\\r\\n                                 ...   \n",
       "4  UK-4|\\n\\n\\r\\n                                 ...   \n",
       "\n",
       "                                             comfort  \\\n",
       "0  \\n\\r\\n                           CLASSIC, WATE...   \n",
       "1  \\n\\r\\n                           CLASSIC, WATE...   \n",
       "2  \\n\\r\\n                           TRAIL TO STRE...   \n",
       "3  \\n\\r\\n                           TRAIL TO STRE...   \n",
       "4  \\n\\r\\n                           CLASSIC, WATE...   \n",
       "\n",
       "                                         performance star_rating  \n",
       "0  \\n\\nFeatures \\nOmni-Grip non-marking traction ...   0 reviews  \n",
       "1  \\n\\nFeatures \\nOmni-Grip non-marking traction ...   0 reviews  \n",
       "2  \\n\\nFeatures \\nAdapt Trax outsole provides exc...   0 reviews  \n",
       "3  \\n\\nFeatures \\nAdapt Trax outsole provides exc...   0 reviews  \n",
       "4  \\n\\nFeatures \\nOmni-Grip non-marking traction ...   0 reviews  "
      ]
     },
     "execution_count": 248,
     "metadata": {},
     "output_type": "execute_result"
    }
   ],
   "source": [
    "df.head()"
   ]
  },
  {
   "cell_type": "code",
   "execution_count": 249,
   "id": "189b75ed",
   "metadata": {},
   "outputs": [
    {
     "data": {
      "text/plain": [
       "(88, 12)"
      ]
     },
     "execution_count": 249,
     "metadata": {},
     "output_type": "execute_result"
    }
   ],
   "source": [
    "df.shape"
   ]
  },
  {
   "cell_type": "code",
   "execution_count": 250,
   "id": "861413fc",
   "metadata": {},
   "outputs": [
    {
     "data": {
      "text/plain": [
       "name              object\n",
       "category          object\n",
       "No. of colors      int64\n",
       "price             object\n",
       "count_of_size      int64\n",
       "colors            object\n",
       "stylecode         object\n",
       "reviews          float64\n",
       "size              object\n",
       "comfort           object\n",
       "performance       object\n",
       "star_rating       object\n",
       "dtype: object"
      ]
     },
     "execution_count": 250,
     "metadata": {},
     "output_type": "execute_result"
    }
   ],
   "source": [
    "df.dtypes"
   ]
  },
  {
   "cell_type": "code",
   "execution_count": 251,
   "id": "5c49fec0",
   "metadata": {},
   "outputs": [
    {
     "data": {
      "text/plain": [
       "men      30\n",
       "men'S    24\n",
       "MEN      20\n",
       "Mens     14\n",
       "Name: category, dtype: int64"
      ]
     },
     "execution_count": 251,
     "metadata": {},
     "output_type": "execute_result"
    }
   ],
   "source": [
    "df['category'].value_counts()"
   ]
  },
  {
   "cell_type": "code",
   "execution_count": 252,
   "id": "bfd04f8e",
   "metadata": {},
   "outputs": [],
   "source": [
    "# Define a mapping for replacement\n",
    "category_mapping = {'men': 'man', \"men'S\": 'man', 'MEN': 'man', 'Mens': 'man'}\n",
    "\n",
    "# Replace values in the 'category' column\n",
    "df['category'] = df['category'].replace(category_mapping)"
   ]
  },
  {
   "cell_type": "code",
   "execution_count": 253,
   "id": "1c864a55",
   "metadata": {},
   "outputs": [],
   "source": [
    "df['name'] = df['name'].str.replace(r'\\r\\n\\s+', '', regex=True)"
   ]
  },
  {
   "cell_type": "code",
   "execution_count": null,
   "id": "7b460dd4",
   "metadata": {},
   "outputs": [],
   "source": []
  },
  {
   "cell_type": "code",
   "execution_count": 254,
   "id": "55eca69b",
   "metadata": {},
   "outputs": [],
   "source": [
    "df['price'] = pd.to_numeric(df['price'].replace('[^0-9.]', '', regex=True), errors='coerce')"
   ]
  },
  {
   "cell_type": "code",
   "execution_count": 255,
   "id": "3f34f909",
   "metadata": {},
   "outputs": [],
   "source": [
    "df['size'] = df['size'].str.replace(r'\\n', '').str.replace(r'\\s+', ' ').str.replace(r'UK-', '').str.replace(r'\\s*\\|\\s*', '|')\n"
   ]
  },
  {
   "cell_type": "code",
   "execution_count": 256,
   "id": "a634d6dd",
   "metadata": {},
   "outputs": [],
   "source": [
    "df['rating'] = df['star_rating'].str.extract(r'(\\d+(\\.\\d+)?)', expand=False)[0]\n",
    "\n",
    "# Convert the 'rating' column to numeric\n",
    "df['rating'] = pd.to_numeric(df['rating'], errors='coerce')"
   ]
  },
  {
   "cell_type": "code",
   "execution_count": 257,
   "id": "178dafbf",
   "metadata": {},
   "outputs": [
    {
     "data": {
      "text/html": [
       "<div>\n",
       "<style scoped>\n",
       "    .dataframe tbody tr th:only-of-type {\n",
       "        vertical-align: middle;\n",
       "    }\n",
       "\n",
       "    .dataframe tbody tr th {\n",
       "        vertical-align: top;\n",
       "    }\n",
       "\n",
       "    .dataframe thead th {\n",
       "        text-align: right;\n",
       "    }\n",
       "</style>\n",
       "<table border=\"1\" class=\"dataframe\">\n",
       "  <thead>\n",
       "    <tr style=\"text-align: right;\">\n",
       "      <th></th>\n",
       "      <th>name</th>\n",
       "      <th>category</th>\n",
       "      <th>No. of colors</th>\n",
       "      <th>price</th>\n",
       "      <th>count_of_size</th>\n",
       "      <th>colors</th>\n",
       "      <th>stylecode</th>\n",
       "      <th>reviews</th>\n",
       "      <th>size</th>\n",
       "      <th>comfort</th>\n",
       "      <th>performance</th>\n",
       "      <th>star_rating</th>\n",
       "      <th>rating</th>\n",
       "    </tr>\n",
       "  </thead>\n",
       "  <tbody>\n",
       "    <tr>\n",
       "      <th>0</th>\n",
       "      <td>Columbia Women Black MINX SLIP IV Water Resist...</td>\n",
       "      <td>man</td>\n",
       "      <td>2</td>\n",
       "      <td>10999.0</td>\n",
       "      <td>10</td>\n",
       "      <td>Black, Graphite|Sea Salt, Light Cloud</td>\n",
       "      <td>SKU : BL9797-010</td>\n",
       "      <td>NaN</td>\n",
       "      <td>4|4|5|5|6|6|7|7|8|8</td>\n",
       "      <td>\\n\\r\\n                           CLASSIC, WATE...</td>\n",
       "      <td>\\n\\nFeatures \\nOmni-Grip non-marking traction ...</td>\n",
       "      <td>0 reviews</td>\n",
       "      <td>0.0</td>\n",
       "    </tr>\n",
       "    <tr>\n",
       "      <th>1</th>\n",
       "      <td>Columbia Women Black MINX SLIP IV Water Resist...</td>\n",
       "      <td>man</td>\n",
       "      <td>2</td>\n",
       "      <td>10999.0</td>\n",
       "      <td>10</td>\n",
       "      <td>Black, Graphite|Sea Salt, Light Cloud</td>\n",
       "      <td>SKU : BL9797-010</td>\n",
       "      <td>NaN</td>\n",
       "      <td>4|4|5|5|6|6|7|7|8|8</td>\n",
       "      <td>\\n\\r\\n                           CLASSIC, WATE...</td>\n",
       "      <td>\\n\\nFeatures \\nOmni-Grip non-marking traction ...</td>\n",
       "      <td>0 reviews</td>\n",
       "      <td>0.0</td>\n",
       "    </tr>\n",
       "    <tr>\n",
       "      <th>2</th>\n",
       "      <td>Columbia Men Green EXPEDITIONIST SHIELD Water ...</td>\n",
       "      <td>man</td>\n",
       "      <td>0</td>\n",
       "      <td>14999.0</td>\n",
       "      <td>12</td>\n",
       "      <td>NaN</td>\n",
       "      <td>SKU : BM9083-373</td>\n",
       "      <td>NaN</td>\n",
       "      <td>6|6|7|7|8|8|9|9|10|10|11|11</td>\n",
       "      <td>\\n\\r\\n                           TRAIL TO STRE...</td>\n",
       "      <td>\\n\\nFeatures \\nAdapt Trax outsole provides exc...</td>\n",
       "      <td>0 reviews</td>\n",
       "      <td>0.0</td>\n",
       "    </tr>\n",
       "    <tr>\n",
       "      <th>3</th>\n",
       "      <td>Columbia Men Green EXPEDITIONIST SHIELD Water ...</td>\n",
       "      <td>man</td>\n",
       "      <td>0</td>\n",
       "      <td>14999.0</td>\n",
       "      <td>12</td>\n",
       "      <td>NaN</td>\n",
       "      <td>SKU : BM9083-373</td>\n",
       "      <td>NaN</td>\n",
       "      <td>6|6|7|7|8|8|9|9|10|10|11|11</td>\n",
       "      <td>\\n\\r\\n                           TRAIL TO STRE...</td>\n",
       "      <td>\\n\\nFeatures \\nAdapt Trax outsole provides exc...</td>\n",
       "      <td>0 reviews</td>\n",
       "      <td>0.0</td>\n",
       "    </tr>\n",
       "    <tr>\n",
       "      <th>4</th>\n",
       "      <td>Columbia Women White MINX SLIP IV Water Resist...</td>\n",
       "      <td>man</td>\n",
       "      <td>2</td>\n",
       "      <td>10999.0</td>\n",
       "      <td>10</td>\n",
       "      <td>Black, Graphite|Sea Salt, Light Cloud</td>\n",
       "      <td>SKU : BL9797-125</td>\n",
       "      <td>NaN</td>\n",
       "      <td>4|4|5|5|6|6|7|7|8|8</td>\n",
       "      <td>\\n\\r\\n                           CLASSIC, WATE...</td>\n",
       "      <td>\\n\\nFeatures \\nOmni-Grip non-marking traction ...</td>\n",
       "      <td>0 reviews</td>\n",
       "      <td>0.0</td>\n",
       "    </tr>\n",
       "  </tbody>\n",
       "</table>\n",
       "</div>"
      ],
      "text/plain": [
       "                                                name category  No. of colors  \\\n",
       "0  Columbia Women Black MINX SLIP IV Water Resist...      man              2   \n",
       "1  Columbia Women Black MINX SLIP IV Water Resist...      man              2   \n",
       "2  Columbia Men Green EXPEDITIONIST SHIELD Water ...      man              0   \n",
       "3  Columbia Men Green EXPEDITIONIST SHIELD Water ...      man              0   \n",
       "4  Columbia Women White MINX SLIP IV Water Resist...      man              2   \n",
       "\n",
       "     price  count_of_size                                 colors  \\\n",
       "0  10999.0             10  Black, Graphite|Sea Salt, Light Cloud   \n",
       "1  10999.0             10  Black, Graphite|Sea Salt, Light Cloud   \n",
       "2  14999.0             12                                    NaN   \n",
       "3  14999.0             12                                    NaN   \n",
       "4  10999.0             10  Black, Graphite|Sea Salt, Light Cloud   \n",
       "\n",
       "          stylecode  reviews                          size  \\\n",
       "0  SKU : BL9797-010      NaN          4|4|5|5|6|6|7|7|8|8    \n",
       "1  SKU : BL9797-010      NaN          4|4|5|5|6|6|7|7|8|8    \n",
       "2  SKU : BM9083-373      NaN  6|6|7|7|8|8|9|9|10|10|11|11    \n",
       "3  SKU : BM9083-373      NaN  6|6|7|7|8|8|9|9|10|10|11|11    \n",
       "4  SKU : BL9797-125      NaN          4|4|5|5|6|6|7|7|8|8    \n",
       "\n",
       "                                             comfort  \\\n",
       "0  \\n\\r\\n                           CLASSIC, WATE...   \n",
       "1  \\n\\r\\n                           CLASSIC, WATE...   \n",
       "2  \\n\\r\\n                           TRAIL TO STRE...   \n",
       "3  \\n\\r\\n                           TRAIL TO STRE...   \n",
       "4  \\n\\r\\n                           CLASSIC, WATE...   \n",
       "\n",
       "                                         performance star_rating  rating  \n",
       "0  \\n\\nFeatures \\nOmni-Grip non-marking traction ...   0 reviews     0.0  \n",
       "1  \\n\\nFeatures \\nOmni-Grip non-marking traction ...   0 reviews     0.0  \n",
       "2  \\n\\nFeatures \\nAdapt Trax outsole provides exc...   0 reviews     0.0  \n",
       "3  \\n\\nFeatures \\nAdapt Trax outsole provides exc...   0 reviews     0.0  \n",
       "4  \\n\\nFeatures \\nOmni-Grip non-marking traction ...   0 reviews     0.0  "
      ]
     },
     "execution_count": 257,
     "metadata": {},
     "output_type": "execute_result"
    }
   ],
   "source": [
    "df.head()"
   ]
  },
  {
   "cell_type": "code",
   "execution_count": 258,
   "id": "12489ce7",
   "metadata": {},
   "outputs": [
    {
     "data": {
      "text/plain": [
       "name              0\n",
       "category          0\n",
       "No. of colors     0\n",
       "price             0\n",
       "count_of_size     0\n",
       "colors            4\n",
       "stylecode         0\n",
       "reviews          88\n",
       "size             24\n",
       "comfort           0\n",
       "performance       0\n",
       "star_rating      20\n",
       "rating           44\n",
       "dtype: int64"
      ]
     },
     "execution_count": 258,
     "metadata": {},
     "output_type": "execute_result"
    }
   ],
   "source": [
    "df.isnull().sum()"
   ]
  },
  {
   "cell_type": "code",
   "execution_count": 270,
   "id": "291c2aec",
   "metadata": {},
   "outputs": [
    {
     "data": {
      "text/plain": [
       "name              object\n",
       "category          object\n",
       "No. of colors      int64\n",
       "price            float64\n",
       "count_of_size      int64\n",
       "colors            object\n",
       "stylecode         object\n",
       "reviews          float64\n",
       "size              object\n",
       "comfort           object\n",
       "performance       object\n",
       "star_rating       object\n",
       "rating           float64\n",
       "dtype: object"
      ]
     },
     "execution_count": 270,
     "metadata": {},
     "output_type": "execute_result"
    }
   ],
   "source": [
    "df.dtypes"
   ]
  },
  {
   "cell_type": "code",
   "execution_count": 268,
   "id": "1171547f",
   "metadata": {},
   "outputs": [],
   "source": [
    "df['star_rating'] = df['star_rating'].astype(str)"
   ]
  },
  {
   "cell_type": "code",
   "execution_count": null,
   "id": "349ff5bb",
   "metadata": {},
   "outputs": [],
   "source": []
  },
  {
   "cell_type": "code",
   "execution_count": 233,
   "id": "b7720090",
   "metadata": {},
   "outputs": [],
   "source": [
    "df.drop_duplicates(inplace=True)"
   ]
  },
  {
   "cell_type": "code",
   "execution_count": 234,
   "id": "a0288c46",
   "metadata": {},
   "outputs": [
    {
     "data": {
      "text/plain": [
       "0"
      ]
     },
     "execution_count": 234,
     "metadata": {},
     "output_type": "execute_result"
    }
   ],
   "source": [
    "df.duplicated().sum()"
   ]
  },
  {
   "cell_type": "code",
   "execution_count": 235,
   "id": "46887231",
   "metadata": {},
   "outputs": [],
   "source": [
    "column_to_drop = 'star_rating'\n",
    "df = df.drop(column_to_drop, axis=1)"
   ]
  },
  {
   "cell_type": "code",
   "execution_count": null,
   "id": "b1aa63b2",
   "metadata": {},
   "outputs": [],
   "source": []
  },
  {
   "cell_type": "code",
   "execution_count": 237,
   "id": "7fe4e963",
   "metadata": {},
   "outputs": [],
   "source": [
    "test = df[df.rating.isnull()]\n",
    "train = df[~df.rating.isnull()]"
   ]
  },
  {
   "cell_type": "code",
   "execution_count": 238,
   "id": "63c7d41b",
   "metadata": {},
   "outputs": [],
   "source": [
    "X = train.loc[:,train.columns!='rating']\n",
    "y = train.loc[:,train.columns=='rating']"
   ]
  },
  {
   "cell_type": "code",
   "execution_count": 239,
   "id": "e19dd862",
   "metadata": {},
   "outputs": [],
   "source": [
    "from sklearn.model_selection import train_test_split"
   ]
  },
  {
   "cell_type": "code",
   "execution_count": 240,
   "id": "4a8aab5d",
   "metadata": {},
   "outputs": [],
   "source": [
    "X_train,X_test,y_train,y_test = train_test_split(X,y,test_size=0.2)"
   ]
  },
  {
   "cell_type": "code",
   "execution_count": 241,
   "id": "6ad45e7e",
   "metadata": {},
   "outputs": [],
   "source": [
    "from sklearn.linear_model import LogisticRegression"
   ]
  },
  {
   "cell_type": "code",
   "execution_count": 242,
   "id": "7617976d",
   "metadata": {},
   "outputs": [],
   "source": [
    "lr = LogisticRegression()"
   ]
  },
  {
   "cell_type": "code",
   "execution_count": 243,
   "id": "b11011c8",
   "metadata": {},
   "outputs": [
    {
     "data": {
      "text/plain": [
       "((27, 10), (27, 1), (7, 10), (7, 1))"
      ]
     },
     "execution_count": 243,
     "metadata": {},
     "output_type": "execute_result"
    }
   ],
   "source": [
    "X_train.shape, y_train.shape,X_test.shape,y_test.shape"
   ]
  },
  {
   "cell_type": "code",
   "execution_count": 272,
   "id": "3703b06f",
   "metadata": {},
   "outputs": [
    {
     "ename": "ValueError",
     "evalue": "could not convert string to float: 'man'",
     "output_type": "error",
     "traceback": [
      "\u001b[1;31m---------------------------------------------------------------------------\u001b[0m",
      "\u001b[1;31mValueError\u001b[0m                                Traceback (most recent call last)",
      "\u001b[1;32m<ipython-input-272-525807c9705d>\u001b[0m in \u001b[0;36m<module>\u001b[1;34m\u001b[0m\n\u001b[0;32m      1\u001b[0m \u001b[1;32mfrom\u001b[0m \u001b[0msklearn\u001b[0m\u001b[1;33m.\u001b[0m\u001b[0mensemble\u001b[0m \u001b[1;32mimport\u001b[0m \u001b[0mRandomForestClassifier\u001b[0m\u001b[1;33m\u001b[0m\u001b[1;33m\u001b[0m\u001b[0m\n\u001b[0;32m      2\u001b[0m \u001b[0mrf\u001b[0m \u001b[1;33m=\u001b[0m \u001b[0mRandomForestClassifier\u001b[0m\u001b[1;33m(\u001b[0m\u001b[0mn_estimators\u001b[0m\u001b[1;33m=\u001b[0m\u001b[1;36m200\u001b[0m\u001b[1;33m,\u001b[0m\u001b[0mmin_samples_leaf\u001b[0m\u001b[1;33m=\u001b[0m\u001b[1;36m20\u001b[0m\u001b[1;33m,\u001b[0m \u001b[0mmax_features\u001b[0m\u001b[1;33m=\u001b[0m\u001b[1;36m0.5\u001b[0m\u001b[1;33m,\u001b[0m\u001b[0mn_jobs\u001b[0m\u001b[1;33m=\u001b[0m\u001b[1;33m-\u001b[0m\u001b[1;36m1\u001b[0m\u001b[1;33m)\u001b[0m\u001b[1;33m\u001b[0m\u001b[1;33m\u001b[0m\u001b[0m\n\u001b[1;32m----> 3\u001b[1;33m \u001b[0mrf\u001b[0m\u001b[1;33m.\u001b[0m\u001b[0mfit\u001b[0m\u001b[1;33m(\u001b[0m\u001b[0mX_train\u001b[0m\u001b[1;33m,\u001b[0m\u001b[0my_train\u001b[0m\u001b[1;33m)\u001b[0m\u001b[1;33m\u001b[0m\u001b[1;33m\u001b[0m\u001b[0m\n\u001b[0m\u001b[0;32m      4\u001b[0m \u001b[0mrf\u001b[0m\u001b[1;33m.\u001b[0m\u001b[0mscore\u001b[0m\u001b[1;33m(\u001b[0m\u001b[0mX_train\u001b[0m\u001b[1;33m,\u001b[0m\u001b[0my_train\u001b[0m\u001b[1;33m)\u001b[0m\u001b[1;33m,\u001b[0m\u001b[0mrf\u001b[0m\u001b[1;33m.\u001b[0m\u001b[0mscore\u001b[0m\u001b[1;33m(\u001b[0m\u001b[0mX_test\u001b[0m\u001b[1;33m,\u001b[0m\u001b[0my_test\u001b[0m\u001b[1;33m)\u001b[0m\u001b[1;33m\u001b[0m\u001b[1;33m\u001b[0m\u001b[0m\n",
      "\u001b[1;32m~\\anaconda3\\lib\\site-packages\\sklearn\\ensemble\\_forest.py\u001b[0m in \u001b[0;36mfit\u001b[1;34m(self, X, y, sample_weight)\u001b[0m\n\u001b[0;32m    325\u001b[0m         \u001b[1;32mif\u001b[0m \u001b[0missparse\u001b[0m\u001b[1;33m(\u001b[0m\u001b[0my\u001b[0m\u001b[1;33m)\u001b[0m\u001b[1;33m:\u001b[0m\u001b[1;33m\u001b[0m\u001b[1;33m\u001b[0m\u001b[0m\n\u001b[0;32m    326\u001b[0m             \u001b[1;32mraise\u001b[0m \u001b[0mValueError\u001b[0m\u001b[1;33m(\u001b[0m\u001b[1;34m\"sparse multilabel-indicator for y is not supported.\"\u001b[0m\u001b[1;33m)\u001b[0m\u001b[1;33m\u001b[0m\u001b[1;33m\u001b[0m\u001b[0m\n\u001b[1;32m--> 327\u001b[1;33m         X, y = self._validate_data(\n\u001b[0m\u001b[0;32m    328\u001b[0m             \u001b[0mX\u001b[0m\u001b[1;33m,\u001b[0m \u001b[0my\u001b[0m\u001b[1;33m,\u001b[0m \u001b[0mmulti_output\u001b[0m\u001b[1;33m=\u001b[0m\u001b[1;32mTrue\u001b[0m\u001b[1;33m,\u001b[0m \u001b[0maccept_sparse\u001b[0m\u001b[1;33m=\u001b[0m\u001b[1;34m\"csc\"\u001b[0m\u001b[1;33m,\u001b[0m \u001b[0mdtype\u001b[0m\u001b[1;33m=\u001b[0m\u001b[0mDTYPE\u001b[0m\u001b[1;33m\u001b[0m\u001b[1;33m\u001b[0m\u001b[0m\n\u001b[0;32m    329\u001b[0m         )\n",
      "\u001b[1;32m~\\anaconda3\\lib\\site-packages\\sklearn\\base.py\u001b[0m in \u001b[0;36m_validate_data\u001b[1;34m(self, X, y, reset, validate_separately, **check_params)\u001b[0m\n\u001b[0;32m    579\u001b[0m                 \u001b[0my\u001b[0m \u001b[1;33m=\u001b[0m \u001b[0mcheck_array\u001b[0m\u001b[1;33m(\u001b[0m\u001b[0my\u001b[0m\u001b[1;33m,\u001b[0m \u001b[1;33m**\u001b[0m\u001b[0mcheck_y_params\u001b[0m\u001b[1;33m)\u001b[0m\u001b[1;33m\u001b[0m\u001b[1;33m\u001b[0m\u001b[0m\n\u001b[0;32m    580\u001b[0m             \u001b[1;32melse\u001b[0m\u001b[1;33m:\u001b[0m\u001b[1;33m\u001b[0m\u001b[1;33m\u001b[0m\u001b[0m\n\u001b[1;32m--> 581\u001b[1;33m                 \u001b[0mX\u001b[0m\u001b[1;33m,\u001b[0m \u001b[0my\u001b[0m \u001b[1;33m=\u001b[0m \u001b[0mcheck_X_y\u001b[0m\u001b[1;33m(\u001b[0m\u001b[0mX\u001b[0m\u001b[1;33m,\u001b[0m \u001b[0my\u001b[0m\u001b[1;33m,\u001b[0m \u001b[1;33m**\u001b[0m\u001b[0mcheck_params\u001b[0m\u001b[1;33m)\u001b[0m\u001b[1;33m\u001b[0m\u001b[1;33m\u001b[0m\u001b[0m\n\u001b[0m\u001b[0;32m    582\u001b[0m             \u001b[0mout\u001b[0m \u001b[1;33m=\u001b[0m \u001b[0mX\u001b[0m\u001b[1;33m,\u001b[0m \u001b[0my\u001b[0m\u001b[1;33m\u001b[0m\u001b[1;33m\u001b[0m\u001b[0m\n\u001b[0;32m    583\u001b[0m \u001b[1;33m\u001b[0m\u001b[0m\n",
      "\u001b[1;32m~\\anaconda3\\lib\\site-packages\\sklearn\\utils\\validation.py\u001b[0m in \u001b[0;36mcheck_X_y\u001b[1;34m(X, y, accept_sparse, accept_large_sparse, dtype, order, copy, force_all_finite, ensure_2d, allow_nd, multi_output, ensure_min_samples, ensure_min_features, y_numeric, estimator)\u001b[0m\n\u001b[0;32m    962\u001b[0m         \u001b[1;32mraise\u001b[0m \u001b[0mValueError\u001b[0m\u001b[1;33m(\u001b[0m\u001b[1;34m\"y cannot be None\"\u001b[0m\u001b[1;33m)\u001b[0m\u001b[1;33m\u001b[0m\u001b[1;33m\u001b[0m\u001b[0m\n\u001b[0;32m    963\u001b[0m \u001b[1;33m\u001b[0m\u001b[0m\n\u001b[1;32m--> 964\u001b[1;33m     X = check_array(\n\u001b[0m\u001b[0;32m    965\u001b[0m         \u001b[0mX\u001b[0m\u001b[1;33m,\u001b[0m\u001b[1;33m\u001b[0m\u001b[1;33m\u001b[0m\u001b[0m\n\u001b[0;32m    966\u001b[0m         \u001b[0maccept_sparse\u001b[0m\u001b[1;33m=\u001b[0m\u001b[0maccept_sparse\u001b[0m\u001b[1;33m,\u001b[0m\u001b[1;33m\u001b[0m\u001b[1;33m\u001b[0m\u001b[0m\n",
      "\u001b[1;32m~\\anaconda3\\lib\\site-packages\\sklearn\\utils\\validation.py\u001b[0m in \u001b[0;36mcheck_array\u001b[1;34m(array, accept_sparse, accept_large_sparse, dtype, order, copy, force_all_finite, ensure_2d, allow_nd, ensure_min_samples, ensure_min_features, estimator)\u001b[0m\n\u001b[0;32m    744\u001b[0m                     \u001b[0marray\u001b[0m \u001b[1;33m=\u001b[0m \u001b[0marray\u001b[0m\u001b[1;33m.\u001b[0m\u001b[0mastype\u001b[0m\u001b[1;33m(\u001b[0m\u001b[0mdtype\u001b[0m\u001b[1;33m,\u001b[0m \u001b[0mcasting\u001b[0m\u001b[1;33m=\u001b[0m\u001b[1;34m\"unsafe\"\u001b[0m\u001b[1;33m,\u001b[0m \u001b[0mcopy\u001b[0m\u001b[1;33m=\u001b[0m\u001b[1;32mFalse\u001b[0m\u001b[1;33m)\u001b[0m\u001b[1;33m\u001b[0m\u001b[1;33m\u001b[0m\u001b[0m\n\u001b[0;32m    745\u001b[0m                 \u001b[1;32melse\u001b[0m\u001b[1;33m:\u001b[0m\u001b[1;33m\u001b[0m\u001b[1;33m\u001b[0m\u001b[0m\n\u001b[1;32m--> 746\u001b[1;33m                     \u001b[0marray\u001b[0m \u001b[1;33m=\u001b[0m \u001b[0mnp\u001b[0m\u001b[1;33m.\u001b[0m\u001b[0masarray\u001b[0m\u001b[1;33m(\u001b[0m\u001b[0marray\u001b[0m\u001b[1;33m,\u001b[0m \u001b[0morder\u001b[0m\u001b[1;33m=\u001b[0m\u001b[0morder\u001b[0m\u001b[1;33m,\u001b[0m \u001b[0mdtype\u001b[0m\u001b[1;33m=\u001b[0m\u001b[0mdtype\u001b[0m\u001b[1;33m)\u001b[0m\u001b[1;33m\u001b[0m\u001b[1;33m\u001b[0m\u001b[0m\n\u001b[0m\u001b[0;32m    747\u001b[0m             \u001b[1;32mexcept\u001b[0m \u001b[0mComplexWarning\u001b[0m \u001b[1;32mas\u001b[0m \u001b[0mcomplex_warning\u001b[0m\u001b[1;33m:\u001b[0m\u001b[1;33m\u001b[0m\u001b[1;33m\u001b[0m\u001b[0m\n\u001b[0;32m    748\u001b[0m                 raise ValueError(\n",
      "\u001b[1;32m~\\anaconda3\\lib\\site-packages\\pandas\\core\\generic.py\u001b[0m in \u001b[0;36m__array__\u001b[1;34m(self, dtype)\u001b[0m\n\u001b[0;32m   1991\u001b[0m \u001b[1;33m\u001b[0m\u001b[0m\n\u001b[0;32m   1992\u001b[0m     \u001b[1;32mdef\u001b[0m \u001b[0m__array__\u001b[0m\u001b[1;33m(\u001b[0m\u001b[0mself\u001b[0m\u001b[1;33m,\u001b[0m \u001b[0mdtype\u001b[0m\u001b[1;33m:\u001b[0m \u001b[0mNpDtype\u001b[0m \u001b[1;33m|\u001b[0m \u001b[1;32mNone\u001b[0m \u001b[1;33m=\u001b[0m \u001b[1;32mNone\u001b[0m\u001b[1;33m)\u001b[0m \u001b[1;33m->\u001b[0m \u001b[0mnp\u001b[0m\u001b[1;33m.\u001b[0m\u001b[0mndarray\u001b[0m\u001b[1;33m:\u001b[0m\u001b[1;33m\u001b[0m\u001b[1;33m\u001b[0m\u001b[0m\n\u001b[1;32m-> 1993\u001b[1;33m         \u001b[1;32mreturn\u001b[0m \u001b[0mnp\u001b[0m\u001b[1;33m.\u001b[0m\u001b[0masarray\u001b[0m\u001b[1;33m(\u001b[0m\u001b[0mself\u001b[0m\u001b[1;33m.\u001b[0m\u001b[0m_values\u001b[0m\u001b[1;33m,\u001b[0m \u001b[0mdtype\u001b[0m\u001b[1;33m=\u001b[0m\u001b[0mdtype\u001b[0m\u001b[1;33m)\u001b[0m\u001b[1;33m\u001b[0m\u001b[1;33m\u001b[0m\u001b[0m\n\u001b[0m\u001b[0;32m   1994\u001b[0m \u001b[1;33m\u001b[0m\u001b[0m\n\u001b[0;32m   1995\u001b[0m     def __array_wrap__(\n",
      "\u001b[1;31mValueError\u001b[0m: could not convert string to float: 'man'"
     ]
    }
   ],
   "source": [
    "from sklearn.ensemble import RandomForestClassifier\n",
    "rf = RandomForestClassifier(n_estimators=200,min_samples_leaf=20, max_features=0.5,n_jobs=-1)\n",
    "rf.fit(X_train,y_train)\n",
    "rf.score(X_train,y_train),rf.score(X_test,y_test)"
   ]
  },
  {
   "cell_type": "code",
   "execution_count": 216,
   "id": "b98890e8",
   "metadata": {},
   "outputs": [
    {
     "data": {
      "text/plain": [
       "Suede Classic XXI Sneakers                                                            7\n",
       "GO RUN PERSISTENCE                                                                    4\n",
       "GO RUN RIDE 11                                                                        2\n",
       "MAX CUSHIONING ELITE - ADVANT                                                         2\n",
       "GO RUN MAX ROAD 6                                                                     2\n",
       "GO RUN PURE 3                                                                         2\n",
       "GO RUN PURE 4                                                                         2\n",
       "GO RUN ELEVATE - UPRAISE                                                              2\n",
       "MAX CUSHIONING ARCH FIT - SWI                                                         2\n",
       "RS-XK Sneakers                                                                        2\n",
       "White/Blue Sports Shoes for Men                                                       1\n",
       "White/Black Sports Shoe for Men                                                       1\n",
       "Grey Slip-on Shoe for Men                                                             1\n",
       "Lgrey/Orange Sports Shoes for Men                                                     1\n",
       "Woodland Red sneakers                                                                 1\n",
       "Black Sports Shoes for Men                                                            1\n",
       "Navy sneakers for Men                                                                 1\n",
       "Black Fabric Luxury Sports Shoes                                                      1\n",
       "Columbia Women Black MINX SLIP IV Water Resistant Shoes                               1\n",
       "Blue sneakers for men                                                                 1\n",
       "White Fabric Luxury Sports Shoes                                                      1\n",
       "Teal Sneaker for men                                                                  1\n",
       "GO RUN SPEED BEAST                                                                    1\n",
       "MAX CUSHIONING DELTA                                                                  1\n",
       "MAX CUSHIONING ARCH FIT - UNI                                                         1\n",
       "POWER - VOLT                                                                          1\n",
       "GO RUN RAZOR 4                                                                        1\n",
       "Dgrey Slip-on Shoe for Men                                                            1\n",
       "Snaype casual sneaker for men                                                         1\n",
       "Columbia Men Green EXPEDITIONIST SHIELD Water Resistant Shoes                         1\n",
       "Future Rider Play On Men's Sneakers                                                   1\n",
       "Columbia Women White MINX SLIP IV Water Resistant Shoes                               1\n",
       "Columbia Men Grey CRESTWOOD MID Water Resistant Shoes                                 1\n",
       "Columbia Men Brown Crestwood Water Resistant Shoes                                    1\n",
       "Columbia Women White TRAILSTORM Water Resistant Shoes                                 1\n",
       "Columbia Women Black TRAILSTORM MID OMNI HEAT Water Resistant Shoes                   1\n",
       "Columbia Men Blue PEAKFREAK X2 OUTDRY (Complete Waterproof)                           1\n",
       "Columbia Women Red PEAKFREAK X2 OUTDRY (Complete Waterproof)                          1\n",
       "Columbia Women Grey TRAILSTORM PEAK MID                                               1\n",
       "Scoot Zeros Georgia Peach Men's Basketball Shoes                                      1\n",
       "PUMA HOOPS x GREMLINS All Pro NITRO™ Men's Basketball Shoes                           1\n",
       "PUMA x SPARCO Future Cat OG Driving Shoes                                             1\n",
       "Grey slip-on shoe for men                                                             1\n",
       "Speedcat Shield SD Driving Shoes                                                      1\n",
       "PUMA x LAMELO BALL RS-X Pocket LaFrancé Men's Sneakers                                1\n",
       "Roma Classic Gum Sneakers                                                             1\n",
       "Deviate NITRO™ 2 Men's Running Shoes                                                  1\n",
       "Black Slip-on Shoe for Men                                                            1\n",
       "Navy Slip-on Shoe for Men                                                             1\n",
       "White Sneakers for Men                                                                1\n",
       "Navy Sports Shoe for Men                                                              1\n",
       "Black Sneaker for Men                                                                 1\n",
       "Black/Lgrey Slip Shoe for Men                                                         1\n",
       "MAX CUSHIONING PREMIER 2                                                              1\n",
       "Name: name, dtype: int64"
      ]
     },
     "execution_count": 216,
     "metadata": {},
     "output_type": "execute_result"
    }
   ],
   "source": [
    "df['name'].value_counts()"
   ]
  },
  {
   "cell_type": "code",
   "execution_count": 215,
   "id": "1c468a60",
   "metadata": {},
   "outputs": [],
   "source": [
    "# Drop rows where 'name' is equal to the specified value\n",
    "df = df[df['name'] != \"Voltaic Evo Running Shoe\"]\n",
    "\n",
    "# Reset index after dropping rows\n",
    "df = df.reset_index(drop=True)"
   ]
  }
 ],
 "metadata": {
  "kernelspec": {
   "display_name": "Python 3",
   "language": "python",
   "name": "python3"
  },
  "language_info": {
   "codemirror_mode": {
    "name": "ipython",
    "version": 3
   },
   "file_extension": ".py",
   "mimetype": "text/x-python",
   "name": "python",
   "nbconvert_exporter": "python",
   "pygments_lexer": "ipython3",
   "version": "3.8.8"
  }
 },
 "nbformat": 4,
 "nbformat_minor": 5
}
